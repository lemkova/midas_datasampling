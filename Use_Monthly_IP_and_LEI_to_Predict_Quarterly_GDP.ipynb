{
  "cells": [
    {
      "cell_type": "markdown",
      "metadata": {
        "id": "ZVOR9OW8MhjM"
      },
      "source": [
        "# Use Monthly IP and LEI to Predict Quarterly GDP"
      ]
    },
    {
      "cell_type": "markdown",
      "metadata": {
        "id": "A5vPLjS4MhjV"
      },
      "source": [
        "In this notebook, we use monthly industrial producation % yoy growth (IP_YOY) and monthly leading indicator %yoy growth (LEI_YOY) to predict quarterly gdp % yoy growth (GDP_CYOY).\n",
        "\n",
        "The midaspy package is modified to allow for two high frequency indicators. Specifically, the following functions are added: mix_freq2, ssr2, jacobian2, estimate2, forecast2, midas_adl2, fixed_window2, rolling2, recursive2. The new functions can be used for both MIDAS and autoregressive MIDAS by changing the value of ylag. For the polynomial b in MIDAS, we can use exponential Almon weights (‘expalmon’) or beta weights (‘beta’). For the model training window size, we can use fixed window (‘fixed’), rolling basis (‘rolling’) or recursive (‘recursive’). In addition, the original estimate and forecast functions are modified to allow for different number of low frequency data lags.\n",
        "\n",
        "We can change the parameters and training window to evaluate the forecast accuracy of MIDAS. As a measure of accuracy, the relative MSE will be used in our application, which is defined as MSE of MIDAS divided by the MSE of the benchmark forecast. The benchmark forecast is the in-sample mean of GDP growth recomputed every recursion."
      ]
    },
    {
      "cell_type": "code",
      "execution_count": null,
      "metadata": {},
      "outputs": [],
      "source": [
        "!git clone https://github.com/lemkova/midas_datasampling"
      ]
    },
    {
      "cell_type": "code",
      "execution_count": 1,
      "metadata": {},
      "outputs": [],
      "source": [
        "import sys\n",
        "import os\n",
        "sys.path.append('/content/midas_datasampling/midas')\n",
        "os.chdir('/content/midas_datasampling/')"
      ]
    },
    {
      "cell_type": "code",
      "execution_count": 4,
      "metadata": {
        "colab": {
          "base_uri": "https://localhost:8080/",
          "height": 366
        },
        "id": "O0nN5yXBOT_F",
        "outputId": "7d40dde8-e7e5-418c-a91a-d9d2ddddc64c"
      },
      "outputs": [],
      "source": [
        "%matplotlib inline\n",
        "import datetime\n",
        "import numpy as np\n",
        "import pandas as pd\n",
        "\n",
        "from midas.mix import mix_freq, mix_freq2\n",
        "from midas.adl import estimate, forecast, midas_adl, rmse, estimate2, forecast2, midas_adl2\n"
      ]
    },
    {
      "cell_type": "code",
      "execution_count": 5,
      "metadata": {
        "colab": {
          "base_uri": "https://localhost:8080/",
          "height": 361
        },
        "id": "4v1SKnupMhja",
        "outputId": "214a3a2a-1e79-4fb5-d3df-6b00b29a0933"
      },
      "outputs": [
        {
          "name": "stderr",
          "output_type": "stream",
          "text": [
            "/var/folders/vk/52y807vs5zj8kgdycvhgmxrc0000gn/T/ipykernel_21115/312770960.py:2: UserWarning: Could not infer format, so each element will be parsed individually, falling back to `dateutil`. To ensure parsing is consistent and as-expected, please specify a format.\n",
            "  gdp = pd.read_csv('./data/GDP.csv', parse_dates=['DATE'], index_col='DATE')\n",
            "/var/folders/vk/52y807vs5zj8kgdycvhgmxrc0000gn/T/ipykernel_21115/312770960.py:3: UserWarning: Could not infer format, so each element will be parsed individually, falling back to `dateutil`. To ensure parsing is consistent and as-expected, please specify a format.\n",
            "  ip = pd.read_csv('./data/IP.csv', parse_dates=['DATE'], index_col='DATE')\n",
            "/var/folders/vk/52y807vs5zj8kgdycvhgmxrc0000gn/T/ipykernel_21115/312770960.py:4: UserWarning: Could not infer format, so each element will be parsed individually, falling back to `dateutil`. To ensure parsing is consistent and as-expected, please specify a format.\n",
            "  lei = pd.read_csv('./data/LEI.csv', parse_dates=['DATE'], index_col='DATE')\n"
          ]
        },
        {
          "data": {
            "text/html": [
              "<div>\n",
              "<style scoped>\n",
              "    .dataframe tbody tr th:only-of-type {\n",
              "        vertical-align: middle;\n",
              "    }\n",
              "\n",
              "    .dataframe tbody tr th {\n",
              "        vertical-align: top;\n",
              "    }\n",
              "\n",
              "    .dataframe thead th {\n",
              "        text-align: right;\n",
              "    }\n",
              "</style>\n",
              "<table border=\"1\" class=\"dataframe\">\n",
              "  <thead>\n",
              "    <tr style=\"text-align: right;\">\n",
              "      <th></th>\n",
              "      <th>GDP_CYOY</th>\n",
              "    </tr>\n",
              "    <tr>\n",
              "      <th>DATE</th>\n",
              "      <th></th>\n",
              "    </tr>\n",
              "  </thead>\n",
              "  <tbody>\n",
              "    <tr>\n",
              "      <th>2017-03-31</th>\n",
              "      <td>2.0</td>\n",
              "    </tr>\n",
              "    <tr>\n",
              "      <th>2017-06-30</th>\n",
              "      <td>2.2</td>\n",
              "    </tr>\n",
              "    <tr>\n",
              "      <th>2017-09-30</th>\n",
              "      <td>2.3</td>\n",
              "    </tr>\n",
              "    <tr>\n",
              "      <th>2017-12-31</th>\n",
              "      <td>2.6</td>\n",
              "    </tr>\n",
              "    <tr>\n",
              "      <th>2018-03-31</th>\n",
              "      <td>2.8</td>\n",
              "    </tr>\n",
              "  </tbody>\n",
              "</table>\n",
              "</div>"
            ],
            "text/plain": [
              "            GDP_CYOY\n",
              "DATE                \n",
              "2017-03-31       2.0\n",
              "2017-06-30       2.2\n",
              "2017-09-30       2.3\n",
              "2017-12-31       2.6\n",
              "2018-03-31       2.8"
            ]
          },
          "execution_count": 5,
          "metadata": {},
          "output_type": "execute_result"
        }
      ],
      "source": [
        "# Read data\n",
        "gdp = pd.read_csv('./data/GDP.csv', parse_dates=['DATE'], index_col='DATE')\n",
        "ip = pd.read_csv('./data/IP.csv', parse_dates=['DATE'], index_col='DATE')\n",
        "lei = pd.read_csv('./data/LEI.csv', parse_dates=['DATE'], index_col='DATE')\n",
        "gdp.tail()"
      ]
    },
    {
      "cell_type": "code",
      "execution_count": 6,
      "metadata": {
        "colab": {
          "base_uri": "https://localhost:8080/",
          "height": 237
        },
        "id": "JIXGK5-JMhjb",
        "outputId": "194f48d7-cc8a-48e9-edd8-8ddbe66d1dec"
      },
      "outputs": [
        {
          "data": {
            "text/html": [
              "<div>\n",
              "<style scoped>\n",
              "    .dataframe tbody tr th:only-of-type {\n",
              "        vertical-align: middle;\n",
              "    }\n",
              "\n",
              "    .dataframe tbody tr th {\n",
              "        vertical-align: top;\n",
              "    }\n",
              "\n",
              "    .dataframe thead th {\n",
              "        text-align: right;\n",
              "    }\n",
              "</style>\n",
              "<table border=\"1\" class=\"dataframe\">\n",
              "  <thead>\n",
              "    <tr style=\"text-align: right;\">\n",
              "      <th></th>\n",
              "      <th>IP_YOY</th>\n",
              "    </tr>\n",
              "    <tr>\n",
              "      <th>DATE</th>\n",
              "      <th></th>\n",
              "    </tr>\n",
              "  </thead>\n",
              "  <tbody>\n",
              "    <tr>\n",
              "      <th>2017-12-31</th>\n",
              "      <td>2.85</td>\n",
              "    </tr>\n",
              "    <tr>\n",
              "      <th>2018-01-31</th>\n",
              "      <td>2.71</td>\n",
              "    </tr>\n",
              "    <tr>\n",
              "      <th>2018-02-28</th>\n",
              "      <td>3.51</td>\n",
              "    </tr>\n",
              "    <tr>\n",
              "      <th>2018-03-31</th>\n",
              "      <td>3.71</td>\n",
              "    </tr>\n",
              "    <tr>\n",
              "      <th>2018-04-30</th>\n",
              "      <td>3.50</td>\n",
              "    </tr>\n",
              "  </tbody>\n",
              "</table>\n",
              "</div>"
            ],
            "text/plain": [
              "            IP_YOY\n",
              "DATE              \n",
              "2017-12-31    2.85\n",
              "2018-01-31    2.71\n",
              "2018-02-28    3.51\n",
              "2018-03-31    3.71\n",
              "2018-04-30    3.50"
            ]
          },
          "execution_count": 6,
          "metadata": {},
          "output_type": "execute_result"
        }
      ],
      "source": [
        "ip.tail()"
      ]
    },
    {
      "cell_type": "code",
      "execution_count": 7,
      "metadata": {
        "colab": {
          "base_uri": "https://localhost:8080/",
          "height": 237
        },
        "id": "yEmmEbQYMhjc",
        "outputId": "8b4b1e94-289a-4fa7-95a8-363a91c310ce"
      },
      "outputs": [
        {
          "data": {
            "text/html": [
              "<div>\n",
              "<style scoped>\n",
              "    .dataframe tbody tr th:only-of-type {\n",
              "        vertical-align: middle;\n",
              "    }\n",
              "\n",
              "    .dataframe tbody tr th {\n",
              "        vertical-align: top;\n",
              "    }\n",
              "\n",
              "    .dataframe thead th {\n",
              "        text-align: right;\n",
              "    }\n",
              "</style>\n",
              "<table border=\"1\" class=\"dataframe\">\n",
              "  <thead>\n",
              "    <tr style=\"text-align: right;\">\n",
              "      <th></th>\n",
              "      <th>LEI_YOY</th>\n",
              "    </tr>\n",
              "    <tr>\n",
              "      <th>DATE</th>\n",
              "      <th></th>\n",
              "    </tr>\n",
              "  </thead>\n",
              "  <tbody>\n",
              "    <tr>\n",
              "      <th>2017-12-31</th>\n",
              "      <td>5.7</td>\n",
              "    </tr>\n",
              "    <tr>\n",
              "      <th>2018-01-31</th>\n",
              "      <td>5.9</td>\n",
              "    </tr>\n",
              "    <tr>\n",
              "      <th>2018-02-28</th>\n",
              "      <td>6.4</td>\n",
              "    </tr>\n",
              "    <tr>\n",
              "      <th>2018-03-31</th>\n",
              "      <td>6.2</td>\n",
              "    </tr>\n",
              "    <tr>\n",
              "      <th>2018-04-30</th>\n",
              "      <td>6.4</td>\n",
              "    </tr>\n",
              "  </tbody>\n",
              "</table>\n",
              "</div>"
            ],
            "text/plain": [
              "            LEI_YOY\n",
              "DATE               \n",
              "2017-12-31      5.7\n",
              "2018-01-31      5.9\n",
              "2018-02-28      6.4\n",
              "2018-03-31      6.2\n",
              "2018-04-30      6.4"
            ]
          },
          "execution_count": 7,
          "metadata": {},
          "output_type": "execute_result"
        }
      ],
      "source": [
        "lei.tail()"
      ]
    },
    {
      "cell_type": "code",
      "execution_count": 8,
      "metadata": {
        "colab": {
          "base_uri": "https://localhost:8080/",
          "height": 375
        },
        "id": "_lO8E_SmMhjc",
        "outputId": "91d7c423-a735-4100-82ff-b09664e3a1eb"
      },
      "outputs": [
        {
          "data": {
            "text/plain": [
              "<Axes: xlabel='DATE'>"
            ]
          },
          "execution_count": 8,
          "metadata": {},
          "output_type": "execute_result"
        },
        {
          "data": {
            "image/png": "[encoded data removed]",
            "text/plain": [
              "<Figure size 1500x400 with 1 Axes>"
            ]
          },
          "metadata": {},
          "output_type": "display_data"
        }
      ],
      "source": [
        "# Plot the sample data\n",
        "df = pd.concat([gdp, ip, lei], axis=1)\n",
        "df.columns = ['gdp_yoy','ip_yoy','lei_yoy']\n",
        "df[['gdp_yoy','ip_yoy','lei_yoy']].loc['2011-1-31':].plot(figsize=(15,4), style=['o','-','--'])"
      ]
    },
    {
      "cell_type": "markdown",
      "metadata": {
        "id": "ID5P9goHMhjd"
      },
      "source": [
        "## Mixing Frequencies\n",
        "\n",
        "The first step is to do the actual frequency mixing.  In this case we're mixing monthly data (industrial producation % yoy growth, leading indicator %yoy) with quarterly data (gdp % yoy growth).  "
      ]
    },
    {
      "cell_type": "code",
      "execution_count": 9,
      "metadata": {
        "colab": {
          "base_uri": "https://localhost:8080/",
          "height": 176
        },
        "collapsed": true,
        "id": "3pbE_nz1Mhje",
        "outputId": "ad2d6550-7d70-493b-d637-9d88b38c1ee1",
        "scrolled": true
      },
      "outputs": [],
      "source": [
        "y, yl, x1, x2, yf, ylf, x1f, x2f =mix_freq2(gdp.GDP_CYOY, ip.IP_YOY,lei.LEI_YOY, \"3m\",\"3m\", 1, 2,\n",
        "                                 start_date=datetime.datetime(2011,3,31),\n",
        "                                 end_date=datetime.datetime(2013,3,31))"
      ]
    },
    {
      "cell_type": "markdown",
      "metadata": {
        "id": "-cNKVawwMhje"
      },
      "source": [
        "## Fitting the Model\n",
        "\n",
        "Because of the form of the MIDAS model, fitting the model requires using non-linear least squares.  For now, if you call the __estimate2__ function directly, you'll get back a results of type scipy.optimize.optimize.OptimizeResult. We use data from 2011-3-31 to 2013-3-31 to fit the model and use the rest of data to forecast."
      ]
    },
    {
      "cell_type": "code",
      "execution_count": 10,
      "metadata": {
        "id": "1CzAPY0CMhjf",
        "outputId": "3138df33-5d73-414f-a592-f8db0bda7a91"
      },
      "outputs": [
        {
          "data": {
            "text/plain": [
              "array([  0.62437404,   0.81585015,  -0.19729317,  42.41741003,\n",
              "       -14.84971675,   1.05591201,   9.94382022,  -0.20844232])"
            ]
          },
          "execution_count": 10,
          "metadata": {},
          "output_type": "execute_result"
        }
      ],
      "source": [
        "res = estimate2(y, yl, x1, x2, poly1='expalmon', poly2='expalmon')\n",
        "res.x\n",
        "#opt params [beta0, beta1, beta2, theta11, theta12, theta21, theta22, lambda]"
      ]
    },
    {
      "cell_type": "markdown",
      "metadata": {
        "id": "kUjcRzx1Mhjf"
      },
      "source": [
        "You can also call __forecast2__ directly.  This will use the optimization results returned from __eatimate2__ to produce a forecast for every date in the index of the forecast inputs (here x1f, x2f and ylf):"
      ]
    },
    {
      "cell_type": "code",
      "execution_count": 11,
      "metadata": {
        "id": "ym8ZCp0kMhjf",
        "outputId": "a6c90a5c-4fe0-40f2-f941-bb1d4160ebe6",
        "scrolled": true
      },
      "outputs": [
        {
          "data": {
            "text/html": [
              "<div>\n",
              "<style scoped>\n",
              "    .dataframe tbody tr th:only-of-type {\n",
              "        vertical-align: middle;\n",
              "    }\n",
              "\n",
              "    .dataframe tbody tr th {\n",
              "        vertical-align: top;\n",
              "    }\n",
              "\n",
              "    .dataframe thead th {\n",
              "        text-align: right;\n",
              "    }\n",
              "</style>\n",
              "<table border=\"1\" class=\"dataframe\">\n",
              "  <thead>\n",
              "    <tr style=\"text-align: right;\">\n",
              "      <th></th>\n",
              "      <th>yfh</th>\n",
              "      <th>GDP_CYOY</th>\n",
              "      <th>gap</th>\n",
              "    </tr>\n",
              "    <tr>\n",
              "      <th>DATE</th>\n",
              "      <th></th>\n",
              "      <th></th>\n",
              "      <th></th>\n",
              "    </tr>\n",
              "  </thead>\n",
              "  <tbody>\n",
              "    <tr>\n",
              "      <th>2013-06-30</th>\n",
              "      <td>1.528353</td>\n",
              "      <td>1.0</td>\n",
              "      <td>0.528353</td>\n",
              "    </tr>\n",
              "    <tr>\n",
              "      <th>2013-09-30</th>\n",
              "      <td>0.990148</td>\n",
              "      <td>1.7</td>\n",
              "      <td>-0.709852</td>\n",
              "    </tr>\n",
              "    <tr>\n",
              "      <th>2013-12-31</th>\n",
              "      <td>1.546407</td>\n",
              "      <td>2.7</td>\n",
              "      <td>-1.153593</td>\n",
              "    </tr>\n",
              "    <tr>\n",
              "      <th>2014-03-31</th>\n",
              "      <td>0.607871</td>\n",
              "      <td>1.7</td>\n",
              "      <td>-1.092129</td>\n",
              "    </tr>\n",
              "    <tr>\n",
              "      <th>2014-06-30</th>\n",
              "      <td>1.825257</td>\n",
              "      <td>2.7</td>\n",
              "      <td>-0.874743</td>\n",
              "    </tr>\n",
              "    <tr>\n",
              "      <th>2014-09-30</th>\n",
              "      <td>2.250579</td>\n",
              "      <td>3.2</td>\n",
              "      <td>-0.949421</td>\n",
              "    </tr>\n",
              "    <tr>\n",
              "      <th>2014-12-31</th>\n",
              "      <td>1.362318</td>\n",
              "      <td>2.7</td>\n",
              "      <td>-1.337682</td>\n",
              "    </tr>\n",
              "    <tr>\n",
              "      <th>2015-03-31</th>\n",
              "      <td>1.529287</td>\n",
              "      <td>3.8</td>\n",
              "      <td>-2.270713</td>\n",
              "    </tr>\n",
              "    <tr>\n",
              "      <th>2015-06-30</th>\n",
              "      <td>-1.296682</td>\n",
              "      <td>3.3</td>\n",
              "      <td>-4.596682</td>\n",
              "    </tr>\n",
              "    <tr>\n",
              "      <th>2015-09-30</th>\n",
              "      <td>-2.122371</td>\n",
              "      <td>2.4</td>\n",
              "      <td>-4.522371</td>\n",
              "    </tr>\n",
              "    <tr>\n",
              "      <th>2015-12-31</th>\n",
              "      <td>-2.486361</td>\n",
              "      <td>2.0</td>\n",
              "      <td>-4.486361</td>\n",
              "    </tr>\n",
              "    <tr>\n",
              "      <th>2016-03-31</th>\n",
              "      <td>-2.710368</td>\n",
              "      <td>1.4</td>\n",
              "      <td>-4.110368</td>\n",
              "    </tr>\n",
              "    <tr>\n",
              "      <th>2016-06-30</th>\n",
              "      <td>-2.276044</td>\n",
              "      <td>1.2</td>\n",
              "      <td>-3.476044</td>\n",
              "    </tr>\n",
              "    <tr>\n",
              "      <th>2016-09-30</th>\n",
              "      <td>-1.382462</td>\n",
              "      <td>1.5</td>\n",
              "      <td>-2.882462</td>\n",
              "    </tr>\n",
              "    <tr>\n",
              "      <th>2016-12-31</th>\n",
              "      <td>-0.973948</td>\n",
              "      <td>1.8</td>\n",
              "      <td>-2.773948</td>\n",
              "    </tr>\n",
              "    <tr>\n",
              "      <th>2017-03-31</th>\n",
              "      <td>-0.234338</td>\n",
              "      <td>2.0</td>\n",
              "      <td>-2.234338</td>\n",
              "    </tr>\n",
              "    <tr>\n",
              "      <th>2017-06-30</th>\n",
              "      <td>1.143309</td>\n",
              "      <td>2.2</td>\n",
              "      <td>-1.056691</td>\n",
              "    </tr>\n",
              "    <tr>\n",
              "      <th>2017-09-30</th>\n",
              "      <td>0.648216</td>\n",
              "      <td>2.3</td>\n",
              "      <td>-1.651784</td>\n",
              "    </tr>\n",
              "    <tr>\n",
              "      <th>2017-12-31</th>\n",
              "      <td>1.334874</td>\n",
              "      <td>2.6</td>\n",
              "      <td>-1.265126</td>\n",
              "    </tr>\n",
              "    <tr>\n",
              "      <th>2018-03-31</th>\n",
              "      <td>1.200649</td>\n",
              "      <td>2.8</td>\n",
              "      <td>-1.599351</td>\n",
              "    </tr>\n",
              "  </tbody>\n",
              "</table>\n",
              "</div>"
            ],
            "text/plain": [
              "                 yfh  GDP_CYOY       gap\n",
              "DATE                                    \n",
              "2013-06-30  1.528353       1.0  0.528353\n",
              "2013-09-30  0.990148       1.7 -0.709852\n",
              "2013-12-31  1.546407       2.7 -1.153593\n",
              "2014-03-31  0.607871       1.7 -1.092129\n",
              "2014-06-30  1.825257       2.7 -0.874743\n",
              "2014-09-30  2.250579       3.2 -0.949421\n",
              "2014-12-31  1.362318       2.7 -1.337682\n",
              "2015-03-31  1.529287       3.8 -2.270713\n",
              "2015-06-30 -1.296682       3.3 -4.596682\n",
              "2015-09-30 -2.122371       2.4 -4.522371\n",
              "2015-12-31 -2.486361       2.0 -4.486361\n",
              "2016-03-31 -2.710368       1.4 -4.110368\n",
              "2016-06-30 -2.276044       1.2 -3.476044\n",
              "2016-09-30 -1.382462       1.5 -2.882462\n",
              "2016-12-31 -0.973948       1.8 -2.773948\n",
              "2017-03-31 -0.234338       2.0 -2.234338\n",
              "2017-06-30  1.143309       2.2 -1.056691\n",
              "2017-09-30  0.648216       2.3 -1.651784\n",
              "2017-12-31  1.334874       2.6 -1.265126\n",
              "2018-03-31  1.200649       2.8 -1.599351"
            ]
          },
          "execution_count": 11,
          "metadata": {},
          "output_type": "execute_result"
        }
      ],
      "source": [
        "fc = forecast2(x1f, x2f, ylf, res, poly1='expalmon',poly2='expalmon')\n",
        "forecast_df = fc.join(yf)\n",
        "forecast_df['gap'] = forecast_df.yfh - forecast_df.GDP_CYOY\n",
        "forecast_df"
      ]
    },
    {
      "cell_type": "markdown",
      "metadata": {
        "id": "EyO6GxDOMhjg"
      },
      "source": [
        "## The midas_adl and midas_adl2 function\n",
        "\n",
        "The __midas\\_adl__ and __midas\\_adl2__ function wraps up frequency-mixing, fitting, and forecasting into one process.  The default mode of forecasting is _rolling_."
      ]
    },
    {
      "cell_type": "markdown",
      "metadata": {
        "id": "taF_NWx0Mhjg"
      },
      "source": [
        "### Use one monthly indicator"
      ]
    },
    {
      "cell_type": "code",
      "execution_count": 12,
      "metadata": {
        "id": "WnOp0UhrMhjh",
        "outputId": "970953de-58ca-40b6-8ce9-90fb9775a025"
      },
      "outputs": [
        {
          "data": {
            "text/plain": [
              "np.float64(0.940878062266396)"
            ]
          },
          "execution_count": 12,
          "metadata": {},
          "output_type": "execute_result"
        }
      ],
      "source": [
        "# use IP_YOY\n",
        "rmse_fc1, fc1 = midas_adl(gdp.GDP_CYOY, ip.IP_YOY,\n",
        "                         start_date=datetime.datetime(2011,3,31),\n",
        "                         end_date=datetime.datetime(2013,3,31),\n",
        "                         xlag=\"3m\",\n",
        "                         ylag=1,\n",
        "                         horizon=1,\n",
        "                         poly='expalmon',\n",
        "                         method='rolling')\n",
        "rmse_fc1"
      ]
    },
    {
      "cell_type": "code",
      "execution_count": 13,
      "metadata": {
        "id": "0jVjYJkDMhjh",
        "outputId": "b0c68991-6251-4b58-d750-ad0728f5c6d3"
      },
      "outputs": [
        {
          "data": {
            "text/plain": [
              "np.float64(0.6687370661329768)"
            ]
          },
          "execution_count": 13,
          "metadata": {},
          "output_type": "execute_result"
        }
      ],
      "source": [
        "# use LEI_YOY\n",
        "rmse_fc2, fc2 = midas_adl(gdp.GDP_CYOY, lei.LEI_YOY,\n",
        "                         start_date=datetime.datetime(2011,3,31),\n",
        "                         end_date=datetime.datetime(2013,3,31),\n",
        "                         xlag=\"3m\",\n",
        "                         ylag=1,\n",
        "                         horizon=1,\n",
        "                         poly='expalmon',\n",
        "                         method='rolling')\n",
        "rmse_fc2"
      ]
    },
    {
      "cell_type": "markdown",
      "metadata": {
        "id": "Qox0bCfGMhjh"
      },
      "source": [
        "### Use two monthly indicator"
      ]
    },
    {
      "cell_type": "code",
      "execution_count": 14,
      "metadata": {
        "id": "C4pkV9bGMhji",
        "outputId": "98f37cf7-c939-4e5d-9e43-0a648247ad35"
      },
      "outputs": [
        {
          "data": {
            "text/plain": [
              "np.float64(0.7710345190319565)"
            ]
          },
          "execution_count": 14,
          "metadata": {},
          "output_type": "execute_result"
        }
      ],
      "source": [
        "# use IP_YOY and LEI_YOY\n",
        "rmse_fc, fc = midas_adl2(gdp.GDP_CYOY, ip.IP_YOY,lei.LEI_YOY,\n",
        "                         start_date=datetime.datetime(2011,3,31),\n",
        "                         end_date=datetime.datetime(2013,3,31),\n",
        "                         x1lag=\"3m\",\n",
        "                         x2lag=\"3m\",\n",
        "                         ylag=1,\n",
        "                         horizon=1,\n",
        "                         poly1='expalmon',\n",
        "                         poly2='expalmon',\n",
        "                         method='rolling')\n",
        "rmse_fc"
      ]
    },
    {
      "cell_type": "markdown",
      "metadata": {
        "id": "SYP1BsXPMhjj"
      },
      "source": [
        "# Forecast quarterly GDP"
      ]
    },
    {
      "cell_type": "code",
      "execution_count": 15,
      "metadata": {
        "collapsed": true,
        "id": "_nDx--CDMhjk"
      },
      "outputs": [],
      "source": [
        "# Set start date and end date\n",
        "start_date=datetime.datetime(2011,3,31)\n",
        "end_date=datetime.datetime(2013,3,31)"
      ]
    },
    {
      "cell_type": "code",
      "execution_count": 16,
      "metadata": {
        "collapsed": true,
        "id": "80cB-hHCMhjk",
        "scrolled": true
      },
      "outputs": [
        {
          "name": "stderr",
          "output_type": "stream",
          "text": [
            "/var/folders/vk/52y807vs5zj8kgdycvhgmxrc0000gn/T/ipykernel_21115/2935998799.py:4: FutureWarning: ChainedAssignmentError: behaviour will change in pandas 3.0!\n",
            "You are setting values through chained assignment. Currently this works in certain cases, but when using Copy-on-Write (which will become the default behaviour in pandas 3.0) this will never work to update the original DataFrame or Series, because the intermediate object on which we are setting values will behave as a copy.\n",
            "A typical example is when you are setting values in a column of a DataFrame, like:\n",
            "\n",
            "df[\"col\"][row_indexer] = value\n",
            "\n",
            "Use `df.loc[row_indexer, \"col\"] = values` instead, to perform the assignment in a single step and ensure this keeps updating the original `df`.\n",
            "\n",
            "See the caveats in the documentation: https://pandas.pydata.org/pandas-docs/stable/user_guide/indexing.html#returning-a-view-versus-a-copy\n",
            "\n",
            "  df_result['final_gdp_date'][i*3+2]=temp['DATE'][i].date()\n",
            "/var/folders/vk/52y807vs5zj8kgdycvhgmxrc0000gn/T/ipykernel_21115/2935998799.py:4: FutureWarning: Series.__setitem__ treating keys as positions is deprecated. In a future version, integer keys will always be treated as labels (consistent with DataFrame behavior). To set a value by position, use `ser.iloc[pos] = value`\n",
            "  df_result['final_gdp_date'][i*3+2]=temp['DATE'][i].date()\n",
            "/var/folders/vk/52y807vs5zj8kgdycvhgmxrc0000gn/T/ipykernel_21115/2935998799.py:5: FutureWarning: DataFrame.fillna with 'method' is deprecated and will raise in a future version. Use obj.ffill() or obj.bfill() instead.\n",
            "  df_result[['final_gdp_date','GDP_CYOY']]=df_result.join(gdp)[['final_gdp_date','GDP_CYOY']].fillna(method='bfill')\n"
          ]
        }
      ],
      "source": [
        "df_result=pd.DataFrame(index=ip.index, columns=['final_gdp_date'])\n",
        "temp=df_result.iloc[2::3].reset_index()\n",
        "for i in range(0,len(temp)):\n",
        "    df_result['final_gdp_date'][i*3+2]=temp['DATE'][i].date()\n",
        "df_result[['final_gdp_date','GDP_CYOY']]=df_result.join(gdp)[['final_gdp_date','GDP_CYOY']].fillna(method='bfill')"
      ]
    },
    {
      "cell_type": "code",
      "execution_count": 17,
      "metadata": {
        "id": "RFXApO8yMhjk",
        "outputId": "091409dc-b539-49a0-90ec-bea9cecc0551",
        "scrolled": true
      },
      "outputs": [
        {
          "data": {
            "text/html": [
              "<div>\n",
              "<style scoped>\n",
              "    .dataframe tbody tr th:only-of-type {\n",
              "        vertical-align: middle;\n",
              "    }\n",
              "\n",
              "    .dataframe tbody tr th {\n",
              "        vertical-align: top;\n",
              "    }\n",
              "\n",
              "    .dataframe thead th {\n",
              "        text-align: right;\n",
              "    }\n",
              "</style>\n",
              "<table border=\"1\" class=\"dataframe\">\n",
              "  <thead>\n",
              "    <tr style=\"text-align: right;\">\n",
              "      <th></th>\n",
              "      <th>final_gdp_date</th>\n",
              "      <th>GDP_CYOY</th>\n",
              "      <th>benchmark</th>\n",
              "    </tr>\n",
              "    <tr>\n",
              "      <th>DATE</th>\n",
              "      <th></th>\n",
              "      <th></th>\n",
              "      <th></th>\n",
              "    </tr>\n",
              "  </thead>\n",
              "  <tbody>\n",
              "    <tr>\n",
              "      <th>2011-01-31</th>\n",
              "      <td>2011-03-31</td>\n",
              "      <td>1.9</td>\n",
              "      <td>NaN</td>\n",
              "    </tr>\n",
              "    <tr>\n",
              "      <th>2011-02-28</th>\n",
              "      <td>2011-03-31</td>\n",
              "      <td>1.9</td>\n",
              "      <td>NaN</td>\n",
              "    </tr>\n",
              "    <tr>\n",
              "      <th>2011-03-31</th>\n",
              "      <td>2011-03-31</td>\n",
              "      <td>1.9</td>\n",
              "      <td>NaN</td>\n",
              "    </tr>\n",
              "    <tr>\n",
              "      <th>2011-04-30</th>\n",
              "      <td>2011-06-30</td>\n",
              "      <td>1.7</td>\n",
              "      <td>NaN</td>\n",
              "    </tr>\n",
              "    <tr>\n",
              "      <th>2011-05-31</th>\n",
              "      <td>2011-06-30</td>\n",
              "      <td>1.7</td>\n",
              "      <td>NaN</td>\n",
              "    </tr>\n",
              "    <tr>\n",
              "      <th>...</th>\n",
              "      <td>...</td>\n",
              "      <td>...</td>\n",
              "      <td>...</td>\n",
              "    </tr>\n",
              "    <tr>\n",
              "      <th>2017-12-31</th>\n",
              "      <td>2017-12-31</td>\n",
              "      <td>2.6</td>\n",
              "      <td>1.875000</td>\n",
              "    </tr>\n",
              "    <tr>\n",
              "      <th>2018-01-31</th>\n",
              "      <td>2018-03-31</td>\n",
              "      <td>2.8</td>\n",
              "      <td>1.933333</td>\n",
              "    </tr>\n",
              "    <tr>\n",
              "      <th>2018-02-28</th>\n",
              "      <td>2018-03-31</td>\n",
              "      <td>2.8</td>\n",
              "      <td>1.991667</td>\n",
              "    </tr>\n",
              "    <tr>\n",
              "      <th>2018-03-31</th>\n",
              "      <td>2018-03-31</td>\n",
              "      <td>2.8</td>\n",
              "      <td>2.050000</td>\n",
              "    </tr>\n",
              "    <tr>\n",
              "      <th>2018-04-30</th>\n",
              "      <td>NaN</td>\n",
              "      <td>NaN</td>\n",
              "      <td>NaN</td>\n",
              "    </tr>\n",
              "  </tbody>\n",
              "</table>\n",
              "<p>88 rows × 3 columns</p>\n",
              "</div>"
            ],
            "text/plain": [
              "           final_gdp_date  GDP_CYOY  benchmark\n",
              "DATE                                          \n",
              "2011-01-31     2011-03-31       1.9        NaN\n",
              "2011-02-28     2011-03-31       1.9        NaN\n",
              "2011-03-31     2011-03-31       1.9        NaN\n",
              "2011-04-30     2011-06-30       1.7        NaN\n",
              "2011-05-31     2011-06-30       1.7        NaN\n",
              "...                   ...       ...        ...\n",
              "2017-12-31     2017-12-31       2.6   1.875000\n",
              "2018-01-31     2018-03-31       2.8   1.933333\n",
              "2018-02-28     2018-03-31       2.8   1.991667\n",
              "2018-03-31     2018-03-31       2.8   2.050000\n",
              "2018-04-30            NaN       NaN        NaN\n",
              "\n",
              "[88 rows x 3 columns]"
            ]
          },
          "execution_count": 17,
          "metadata": {},
          "output_type": "execute_result"
        }
      ],
      "source": [
        "# To compute benchmark forecast\n",
        "n_month=df_result.index.get_loc(end_date)-df_result.index.get_loc(start_date)\n",
        "df_result['benchmark']=df_result['GDP_CYOY'].rolling(window=n_month).mean()\n",
        "df_result"
      ]
    },
    {
      "cell_type": "markdown",
      "metadata": {
        "id": "07mVOFijMhjl"
      },
      "source": [
        "Note: GDP_CYOY is actual GDP growth, and benchmark is the in-sample mean of GDP growth recomputed every recursion."
      ]
    },
    {
      "cell_type": "code",
      "execution_count": 18,
      "metadata": {
        "collapsed": true,
        "id": "hdQxkm6ZMhjl"
      },
      "outputs": [],
      "source": [
        "# Forecast_all, n is the max horizon, we will set n=3\n",
        "def forecast_all(y_in, x1_in, x2_in, start_date, end_date, x1lag, x2lag, ylag,n,\n",
        "                 forecast_horizon, poly1, poly2, method='rolling'):\n",
        "    forecast_result=[]\n",
        "    rmse_result=[]\n",
        "    for i in range(n):\n",
        "        rmse,fc=midas_adl2(y_in, x1_in, x2_in, start_date=start_date, end_date=end_date,\n",
        "                           x1lag=x1lag, x2lag=x2lag, ylag=ylag, horizon=i,\n",
        "                           poly1=poly1, poly2=poly2, method=method)\n",
        "        forecast_result.append(fc)\n",
        "        rmse_result.append(rmse)\n",
        "    return forecast_result, rmse_result"
      ]
    },
    {
      "cell_type": "code",
      "execution_count": 19,
      "metadata": {
        "collapsed": true,
        "id": "PVQq2BkQMhjl"
      },
      "outputs": [],
      "source": [
        "# Define a function to assist storing forecast gdp to df_result\n",
        "def store_gdp(df0,df1,df2,df):\n",
        "    df0=df0.reset_index()\n",
        "    df0['DATE']=df0['index']\n",
        "    df0=df0.drop(['index','targets'],axis=1)\n",
        "\n",
        "    df1=df1.reset_index()\n",
        "    df1['DATE']=df1['index']\n",
        "    df1=df1.drop(['index','targets'],axis=1)\n",
        "\n",
        "    df2=df2.reset_index()\n",
        "    df2['DATE']=df2['index']\n",
        "    df2=df2.drop(['index','targets'],axis=1)\n",
        "\n",
        "    df_result=df.copy()\n",
        "    df_result=df_result.reset_index()\n",
        "    df_result=df_result.merge(df2,how='left',on='DATE')\n",
        "    df_result=df_result.merge(df1,how='left',on='DATE')\n",
        "    df_result=df_result.merge(df0,how='left',on='DATE')\n",
        "\n",
        "    df_result['preds_x']=df_result['preds_x'].shift(-2)\n",
        "    df_result['preds_y']=df_result['preds_y'].shift(-1)\n",
        "    df_result=df_result.fillna(0)\n",
        "    df_result['forecast_gdp']=df_result['preds_x']+df_result['preds_y']+df_result['preds']\n",
        "    df_result=df_result.drop(['preds_x','preds_y','preds'],axis=1).set_index('DATE')\n",
        "\n",
        "    return df_result"
      ]
    },
    {
      "cell_type": "markdown",
      "metadata": {
        "id": "5WskgQdyMhjl"
      },
      "source": [
        "## Use MIDAS with two indicators on a rolling basis"
      ]
    },
    {
      "cell_type": "markdown",
      "metadata": {
        "id": "km4x6zS5Mhjl"
      },
      "source": [
        "Both two indicators use lags of 3 months."
      ]
    },
    {
      "cell_type": "code",
      "execution_count": 20,
      "metadata": {
        "collapsed": true,
        "id": "SHP-3sJSMhjm"
      },
      "outputs": [],
      "source": [
        "# n=3, ylag=0, method='rolling'\n",
        "df_fc1, rmse1=forecast_all(gdp.GDP_CYOY, ip.IP_YOY,lei.LEI_YOY, start_date, end_date,\n",
        "                           x1lag='3m',x2lag='3m', ylag=0, n=3, forecast_horizon=1,\n",
        "                           poly1='expalmon', poly2='expalmon', method='rolling')"
      ]
    },
    {
      "cell_type": "code",
      "execution_count": 21,
      "metadata": {
        "id": "FacCzf_mMhjm",
        "outputId": "2cfe25ff-2fa8-468e-f96c-d1e2c9f35d59"
      },
      "outputs": [
        {
          "data": {
            "text/plain": [
              "[np.float64(0.6948878563243798),\n",
              " np.float64(0.7108775007186664),\n",
              " np.float64(0.7175905351108165)]"
            ]
          },
          "execution_count": 21,
          "metadata": {},
          "output_type": "execute_result"
        }
      ],
      "source": [
        "rmse1"
      ]
    },
    {
      "cell_type": "code",
      "execution_count": 22,
      "metadata": {
        "collapsed": true,
        "id": "lpyTagn-Mhjm"
      },
      "outputs": [],
      "source": [
        "# Store forecast results in df_result\n",
        "df_result1=store_gdp(df_fc1[0],df_fc1[1],df_fc1[2],df_result)"
      ]
    },
    {
      "cell_type": "code",
      "execution_count": 23,
      "metadata": {
        "id": "Va445JQ8Mhjn",
        "outputId": "6cea9a96-4b80-46d2-fb6f-56f02938847e",
        "scrolled": true
      },
      "outputs": [
        {
          "data": {
            "text/html": [
              "<div>\n",
              "<style scoped>\n",
              "    .dataframe tbody tr th:only-of-type {\n",
              "        vertical-align: middle;\n",
              "    }\n",
              "\n",
              "    .dataframe tbody tr th {\n",
              "        vertical-align: top;\n",
              "    }\n",
              "\n",
              "    .dataframe thead th {\n",
              "        text-align: right;\n",
              "    }\n",
              "</style>\n",
              "<table border=\"1\" class=\"dataframe\">\n",
              "  <thead>\n",
              "    <tr style=\"text-align: right;\">\n",
              "      <th></th>\n",
              "      <th>final_gdp_date</th>\n",
              "      <th>GDP_CYOY</th>\n",
              "      <th>benchmark</th>\n",
              "      <th>forecast_gdp</th>\n",
              "    </tr>\n",
              "    <tr>\n",
              "      <th>DATE</th>\n",
              "      <th></th>\n",
              "      <th></th>\n",
              "      <th></th>\n",
              "      <th></th>\n",
              "    </tr>\n",
              "  </thead>\n",
              "  <tbody>\n",
              "    <tr>\n",
              "      <th>2013-04-30</th>\n",
              "      <td>2013-06-30</td>\n",
              "      <td>1.0</td>\n",
              "      <td>1.833333</td>\n",
              "      <td>1.516998</td>\n",
              "    </tr>\n",
              "    <tr>\n",
              "      <th>2013-05-31</th>\n",
              "      <td>2013-06-30</td>\n",
              "      <td>1.0</td>\n",
              "      <td>1.804167</td>\n",
              "      <td>1.525924</td>\n",
              "    </tr>\n",
              "    <tr>\n",
              "      <th>2013-06-30</th>\n",
              "      <td>2013-06-30</td>\n",
              "      <td>1.0</td>\n",
              "      <td>1.775000</td>\n",
              "      <td>1.332685</td>\n",
              "    </tr>\n",
              "    <tr>\n",
              "      <th>2013-07-31</th>\n",
              "      <td>2013-09-30</td>\n",
              "      <td>1.7</td>\n",
              "      <td>1.795833</td>\n",
              "      <td>0.736541</td>\n",
              "    </tr>\n",
              "    <tr>\n",
              "      <th>2013-08-31</th>\n",
              "      <td>2013-09-30</td>\n",
              "      <td>1.7</td>\n",
              "      <td>1.816667</td>\n",
              "      <td>0.833724</td>\n",
              "    </tr>\n",
              "    <tr>\n",
              "      <th>...</th>\n",
              "      <td>...</td>\n",
              "      <td>...</td>\n",
              "      <td>...</td>\n",
              "      <td>...</td>\n",
              "    </tr>\n",
              "    <tr>\n",
              "      <th>2017-12-31</th>\n",
              "      <td>2017-12-31</td>\n",
              "      <td>2.6</td>\n",
              "      <td>1.875000</td>\n",
              "      <td>2.906149</td>\n",
              "    </tr>\n",
              "    <tr>\n",
              "      <th>2018-01-31</th>\n",
              "      <td>2018-03-31</td>\n",
              "      <td>2.8</td>\n",
              "      <td>1.933333</td>\n",
              "      <td>0.000000</td>\n",
              "    </tr>\n",
              "    <tr>\n",
              "      <th>2018-02-28</th>\n",
              "      <td>2018-03-31</td>\n",
              "      <td>2.8</td>\n",
              "      <td>1.991667</td>\n",
              "      <td>0.000000</td>\n",
              "    </tr>\n",
              "    <tr>\n",
              "      <th>2018-03-31</th>\n",
              "      <td>2018-03-31</td>\n",
              "      <td>2.8</td>\n",
              "      <td>2.050000</td>\n",
              "      <td>0.000000</td>\n",
              "    </tr>\n",
              "    <tr>\n",
              "      <th>2018-04-30</th>\n",
              "      <td>0</td>\n",
              "      <td>0.0</td>\n",
              "      <td>0.000000</td>\n",
              "      <td>0.000000</td>\n",
              "    </tr>\n",
              "  </tbody>\n",
              "</table>\n",
              "<p>61 rows × 4 columns</p>\n",
              "</div>"
            ],
            "text/plain": [
              "           final_gdp_date  GDP_CYOY  benchmark  forecast_gdp\n",
              "DATE                                                        \n",
              "2013-04-30     2013-06-30       1.0   1.833333      1.516998\n",
              "2013-05-31     2013-06-30       1.0   1.804167      1.525924\n",
              "2013-06-30     2013-06-30       1.0   1.775000      1.332685\n",
              "2013-07-31     2013-09-30       1.7   1.795833      0.736541\n",
              "2013-08-31     2013-09-30       1.7   1.816667      0.833724\n",
              "...                   ...       ...        ...           ...\n",
              "2017-12-31     2017-12-31       2.6   1.875000      2.906149\n",
              "2018-01-31     2018-03-31       2.8   1.933333      0.000000\n",
              "2018-02-28     2018-03-31       2.8   1.991667      0.000000\n",
              "2018-03-31     2018-03-31       2.8   2.050000      0.000000\n",
              "2018-04-30              0       0.0   0.000000      0.000000\n",
              "\n",
              "[61 rows x 4 columns]"
            ]
          },
          "execution_count": 23,
          "metadata": {},
          "output_type": "execute_result"
        }
      ],
      "source": [
        "# Forecast results\n",
        "df_result1.iloc[df_result1.index.get_loc(end_date)+1:]"
      ]
    },
    {
      "cell_type": "markdown",
      "metadata": {
        "id": "NyzgqbKoMhjn"
      },
      "source": [
        "## Measure forecast accuracy"
      ]
    },
    {
      "cell_type": "markdown",
      "metadata": {
        "id": "LdD3bE6HMhjo"
      },
      "source": [
        "We use relative MSE as a measure of accuracy. Relative MSE is defined as MSE of MIDAS divided by the MSE of the benchmark forecast. The benchmark forecast is the in-sample mean of GDP growth recomputed every recursion."
      ]
    },
    {
      "cell_type": "code",
      "execution_count": 24,
      "metadata": {
        "id": "TbK2Zr86Mhjo",
        "outputId": "a3a519e6-4732-41a5-d6fe-3f8deea17e28",
        "scrolled": true
      },
      "outputs": [
        {
          "data": {
            "text/plain": [
              "np.float64(0.7431229061260602)"
            ]
          },
          "execution_count": 24,
          "metadata": {},
          "output_type": "execute_result"
        }
      ],
      "source": [
        "temp=df_result1[df_result1['forecast_gdp']!=0]\n",
        "relative_mse=((temp['GDP_CYOY']-temp['forecast_gdp'])**2).mean()/((temp['GDP_CYOY']-temp['benchmark'])**2).mean()\n",
        "relative_mse"
      ]
    }
  ],
  "metadata": {
    "colab": {
      "provenance": []
    },
    "kernelspec": {
      "display_name": "Python 3",
      "language": "python",
      "name": "python3"
    },
    "language_info": {
      "codemirror_mode": {
        "name": "ipython",
        "version": 3
      },
      "file_extension": ".py",
      "mimetype": "text/x-python",
      "name": "python",
      "nbconvert_exporter": "python",
      "pygments_lexer": "ipython3",
      "version": "3.12.4"
    }
  },
  "nbformat": 4,
  "nbformat_minor": 0
}
